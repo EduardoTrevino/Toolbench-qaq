{
 "cells": [
  {
   "cell_type": "code",
   "execution_count": 2,
   "metadata": {},
   "outputs": [
    {
     "name": "stdout",
     "output_type": "stream",
     "text": [
      "OpenAI key information saved to openai_key_json_file.json.\n"
     ]
    }
   ],
   "source": [
    "import json\n",
    "\n",
    "# Define the information for your OpenAI keys\n",
    "keys_info = [\n",
    "    {\n",
    "        \"api_key\": \"YOUR_API_KEY\"\n",
    "    }\n",
    "    # You can add more dictionaries here to include more keys\n",
    "]\n",
    "\n",
    "# Specify the path where you want to save the JSON file\n",
    "file_path = 'toolbench/tooleval/openai_key_json_file.json'\n",
    "\n",
    "# Writing the information to the specified JSON file\n",
    "with open(file_path, 'w') as file:\n",
    "    json.dump(keys_info, file, indent=4)\n",
    "\n",
    "print(f\"OpenAI key information saved to {file_path}.\")"
   ]
  }
 ],
 "metadata": {
  "kernelspec": {
   "display_name": "toolbench",
   "language": "python",
   "name": "toolbench"
  },
  "language_info": {
   "codemirror_mode": {
    "name": "ipython",
    "version": 3
   },
   "file_extension": ".py",
   "mimetype": "text/x-python",
   "name": "python",
   "nbconvert_exporter": "python",
   "pygments_lexer": "ipython3",
   "version": "3.12.2"
  }
 },
 "nbformat": 4,
 "nbformat_minor": 4
}
