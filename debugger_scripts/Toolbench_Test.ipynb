{
 "cells": [
  {
   "cell_type": "code",
   "execution_count": null,
   "metadata": {},
   "outputs": [],
   "source": [
    "import socket\n",
    "\n",
    "def check_server_status(host, port, timeout=10):\n",
    "    try:\n",
    "        # Create a socket object\n",
    "        sock = socket.socket(socket.AF_INET, socket.SOCK_STREAM)\n",
    "        sock.settimeout(timeout)\n",
    "        # Try to connect to the host\n",
    "        result = sock.connect_ex((host, port))\n",
    "        if result == 0:\n",
    "            print(\"Server is up!\")\n",
    "        else:\n",
    "            print(\"Server is down or not reachable on the specified port.\")\n",
    "    except socket.error as err:\n",
    "        print(f\"Socket error: {err}\")\n",
    "    finally:\n",
    "        sock.close()\n",
    "\n",
    "# Replace '8.218.239.54' with the server's IP and '8080' with the server's port\n",
    "check_server_status('8.218.239.54', 8080)\n"
   ]
  }
 ],
 "metadata": {
  "kernelspec": {
   "display_name": "toolbench",
   "language": "python",
   "name": "toolbench"
  },
  "language_info": {
   "name": ""
  }
 },
 "nbformat": 4,
 "nbformat_minor": 4
}
