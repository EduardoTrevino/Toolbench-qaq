{
 "cells": [
  {
   "cell_type": "code",
   "execution_count": null,
   "metadata": {},
   "outputs": [],
   "source": [
    "import os\n",
    "import json\n",
    "\n",
    "# Set the directory containing your JSON files\n",
    "directory = 'A_G1_tool_toolllama-2'\n",
    "\n",
    "# Initialize a list to store the results\n",
    "results = []\n",
    "\n",
    "# Iterate through each file in the directory\n",
    "for filename in os.listdir(directory):\n",
    "    if filename.endswith(\".json\"):  # Ensuring to process only JSON files\n",
    "        # Extract the query ID from the filename\n",
    "        query_id = filename.split('_')[0]\n",
    "\n",
    "        # Construct the full file path\n",
    "        file_path = os.path.join(directory, filename)\n",
    "\n",
    "        # Initialize the flag as 1 (assuming the string is not found)\n",
    "        flag = 1\n",
    "\n",
    "        # Open and read the JSON file\n",
    "        with open(file_path, 'r') as file:\n",
    "            data = json.load(file)\n",
    "            # Convert the JSON object to a string to search for the specific phrase\n",
    "            if \"You are not subscribed to this API\" in str(data):\n",
    "                flag = 0  # Change the flag to 0 if the string is found\n",
    "\n",
    "        # Append the result (query_id and flag) to the results list\n",
    "        results.append((query_id, flag))\n",
    "\n",
    "# Save the results to a CSV file\n",
    "import csv\n",
    "with open('good_queries_G1_tool.csv', 'w', newline='') as file:\n",
    "    writer = csv.writer(file)\n",
    "    writer.writerow(['Query ID', 'Flag'])\n",
    "    writer.writerows(results)\n",
    "\n",
    "print(\"Results have been saved to results.csv.\")\n"
   ]
  },
  {
   "cell_type": "code",
   "execution_count": 4,
   "metadata": {},
   "outputs": [
    {
     "name": "stdout",
     "output_type": "stream",
     "text": [
      "Total number of queries: 43\n",
      "Number of queries with a flag of 1: 14\n"
     ]
    }
   ],
   "source": [
    "import csv\n",
    "\n",
    "# Path to the CSV file\n",
    "csv_file_path = 'good_queries_G1_tool.csv'\n",
    "\n",
    "# Initialize counters\n",
    "total_queries = 0\n",
    "flag_one_count = 0\n",
    "\n",
    "# Open and read the CSV file\n",
    "with open(csv_file_path, mode='r') as file:\n",
    "    reader = csv.reader(file)\n",
    "    next(reader)  # Skip the header row\n",
    "    for row in reader:\n",
    "        total_queries += 1\n",
    "        if row[1] == '1':  # Check if the flag is 1\n",
    "            flag_one_count += 1\n",
    "\n",
    "# Print the results\n",
    "print(f\"Total number of queries: {total_queries}\")\n",
    "print(f\"Number of queries with a flag of 1: {flag_one_count}\")"
   ]
  },
  {
   "cell_type": "code",
   "execution_count": null,
   "metadata": {},
   "outputs": [],
   "source": []
  }
 ],
 "metadata": {
  "kernelspec": {
   "display_name": "alfred_env",
   "language": "python",
   "name": "alfred_env"
  },
  "language_info": {
   "codemirror_mode": {
    "name": "ipython",
    "version": 3
   },
   "file_extension": ".py",
   "mimetype": "text/x-python",
   "name": "python",
   "nbconvert_exporter": "python",
   "pygments_lexer": "ipython3",
   "version": "3.9.18"
  }
 },
 "nbformat": 4,
 "nbformat_minor": 4
}
