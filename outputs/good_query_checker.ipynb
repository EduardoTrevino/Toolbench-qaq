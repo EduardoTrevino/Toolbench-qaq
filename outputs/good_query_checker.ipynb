{
 "cells": [
  {
   "cell_type": "code",
   "execution_count": 2,
   "metadata": {},
   "outputs": [
    {
     "name": "stdout",
     "output_type": "stream",
     "text": [
      "Results have been saved to results.csv.\n"
     ]
    }
   ],
   "source": [
    "import os\n",
    "import json\n",
    "\n",
    "# Set the directory containing your JSON files\n",
    "directory = 'toolllama-2_no_qaq_G1_category_type3/toolllama/G1_category_no_qaq_type3'\n",
    "\n",
    "# Initialize a list to store the results\n",
    "results = []\n",
    "\n",
    "# Iterate through each file in the directory\n",
    "for filename in os.listdir(directory):\n",
    "    if filename.endswith(\".json\"):  # Ensuring to process only JSON files\n",
    "        # Extract the query ID from the filename\n",
    "        query_id = filename.split('_')[0]\n",
    "\n",
    "        # Construct the full file path\n",
    "        file_path = os.path.join(directory, filename)\n",
    "\n",
    "        # Initialize the flag as 1 (assuming the string is not found)\n",
    "        flag = 1\n",
    "\n",
    "        # Open and read the JSON file\n",
    "        with open(file_path, 'r') as file:\n",
    "            data = json.load(file)\n",
    "            # Convert the JSON object to a string to search for the specific phrase\n",
    "            if \"You are not subscribed to this API\" in str(data):\n",
    "                flag = 0  # Change the flag to 0 if the string is found\n",
    "\n",
    "        # Append the result (query_id and flag) to the results list\n",
    "        results.append((query_id, flag))\n",
    "\n",
    "# Save the results to a CSV file\n",
    "import csv\n",
    "with open('results_TEST.csv', 'w', newline='') as file:\n",
    "    writer = csv.writer(file)\n",
    "    writer.writerow(['Query ID', 'Flag'])\n",
    "    writer.writerows(results)\n",
    "\n",
    "print(\"Results have been saved to results.csv.\")\n"
   ]
  }
 ],
 "metadata": {
  "kernelspec": {
   "display_name": "alfred_env",
   "language": "python",
   "name": "alfred_env"
  },
  "language_info": {
   "codemirror_mode": {
    "name": "ipython",
    "version": 3
   },
   "file_extension": ".py",
   "mimetype": "text/x-python",
   "name": "python",
   "nbconvert_exporter": "python",
   "pygments_lexer": "ipython3",
   "version": "3.9.18"
  }
 },
 "nbformat": 4,
 "nbformat_minor": 4
}
