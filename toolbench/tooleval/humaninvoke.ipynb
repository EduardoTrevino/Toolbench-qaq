{
 "cells": [
  {
   "cell_type": "code",
   "execution_count": 2,
   "metadata": {},
   "outputs": [],
   "source": [
    "import json\n",
    "import os"
   ]
  },
  {
   "cell_type": "code",
   "execution_count": 35,
   "metadata": {},
   "outputs": [],
   "source": [
    "dir = \"../../outputs/\"\n",
    "\n",
    "folders = [\"G1_category_type1_qaq_v2_chatgpt4\",\n",
    "                \"G1_category_type2_qaq_v2_chatgpt4\",\n",
    "                \"G1_category_type3_qaq_v2_chatgpt4\",\n",
    "                \"G1_category_type4_qaq_v2_chatgpt4\",\n",
    "                \"G1_instruction_type1_qaq_v2_chatgpt4\",\n",
    "                \"G1_instruction_type2_qaq_v2_chatgpt4\",\n",
    "                \"G1_instruction_type3_qaq_v2_chatgpt4\",\n",
    "                \"G1_instruction_type4_qaq_v2_chatgpt4\",\n",
    "                \"G1_tool_type1_qaq_v2_chatgpt4\",\n",
    "                \"G1_tool_type2_qaq_v2_chatgpt4\",\n",
    "                \"G1_tool_type3_qaq_v2_chatgpt4\",\n",
    "                \"G1_tool_type4_qaq_v2_chatgpt4\"]"
   ]
  },
  {
   "cell_type": "code",
   "execution_count": 36,
   "metadata": {},
   "outputs": [],
   "source": [
    "from sklearn.metrics import confusion_matrix\n",
    "import seaborn as sns\n",
    "import numpy as np\n",
    "import matplotlib.pyplot as plt\n",
    "\n",
    "\n",
    "def getcounts(folder):\n",
    "    files = os.listdir(dir + folder)\n",
    "    count = 0\n",
    "    total = len(files)\n",
    "\n",
    "    name = \"get_qaq_for_qaq\"\n",
    "\n",
    "    for i in files:\n",
    "        with open(dir + folder + \"/\" + i, 'r') as f:\n",
    "            data =json.load(f)\n",
    "        \n",
    "        trys = data[\"trys\"]\n",
    "        candidate = data[\"compare_candidates\"]\n",
    "        \n",
    "        majority = 0\n",
    "        use = 0\n",
    "        for t in trys:\n",
    "            for node in t[\"chain\"]:\n",
    "                if node[\"description\"] == name:\n",
    "                    use += 1\n",
    "                    break\n",
    "\n",
    "\n",
    "            majority += 1 \n",
    "        \n",
    "        if use > majority - use:\n",
    "            count += 1\n",
    "\n",
    "    return (count, total)\n",
    "\n",
    "\n",
    "def createConfusionMatrix(counts):\n",
    "    pred = []\n",
    "    actual = []\n",
    "    for i in counts:\n",
    "        if \"type1\" in i:\n",
    "            pred.extend([1 for i in range(counts[i][0])])\n",
    "            # actual.extend([0 for i in range(counts[i][0])])\n",
    "            pred.extend([0 for i in range(counts[i][1] - counts[i][0])])\n",
    "            actual.extend([0 for i in range(counts[i][1])])\n",
    "\n",
    "        if \"type2\" in i:\n",
    "            pred.extend([1 for i in range(counts[i][0])])\n",
    "            # actual.extend([1 for i in range(counts[i][0])])\n",
    "            pred.extend([0 for i in range(counts[i][1] - counts[i][0])])\n",
    "            actual.extend([1 for i in range(counts[i][1])])\n",
    "\n",
    "        if \"type3\" in i:\n",
    "            pred.extend([1 for i in range(counts[i][0])])\n",
    "            # actual.extend([1 for i in range(counts[i][0])])\n",
    "            pred.extend([0 for i in range(counts[i][1] - counts[i][0])])\n",
    "            actual.extend([1 for i in range(counts[i][1])])\n",
    "        \n",
    "        if \"type4\" in i:\n",
    "            pred.extend([1 for i in range(counts[i][0])])\n",
    "            # actual.extend([1 for i in range(counts[i][0])])\n",
    "            pred.extend([0 for i in range(counts[i][1] - counts[i][0])])\n",
    "            actual.extend([1 for i in range(counts[i][1])])\n",
    "\n",
    "    cm = confusion_matrix(actual, pred)\n",
    "    # Normalise\n",
    "    cmn = cm.astype('float') / cm.sum(axis=1)[:, np.newaxis]\n",
    "    fig, ax = plt.subplots(figsize=(10,10))\n",
    "    sns.heatmap(cmn, annot=True, fmt='.2f', xticklabels=[\"NO_QAQ\", \"QAQ\"], yticklabels=[\"NO_QAQ\", \"QAQ\"])\n",
    "    plt.ylabel('Actual')\n",
    "    plt.xlabel('Predicted')\n",
    "    plt.show(block=False)\n",
    "\n",
    "\n"
   ]
  },
  {
   "cell_type": "code",
   "execution_count": 37,
   "metadata": {},
   "outputs": [
    {
     "data": {
      "image/png": "[encoded data removed]",
      "text/plain": [
       "<Figure size 1000x1000 with 2 Axes>"
      ]
     },
     "metadata": {},
     "output_type": "display_data"
    }
   ],
   "source": [
    "counts = {}\n",
    "for i in folders:\n",
    "    counts[i] = getcounts(i)\n",
    "\n",
    "\n",
    "createConfusionMatrix(counts)"
   ]
  },
  {
   "cell_type": "code",
   "execution_count": null,
   "metadata": {},
   "outputs": [],
   "source": []
  }
 ],
 "metadata": {
  "kernelspec": {
   "display_name": "Python 3",
   "language": "python",
   "name": "python3"
  },
  "language_info": {
   "codemirror_mode": {
    "name": "ipython",
    "version": 3
   },
   "file_extension": ".py",
   "mimetype": "text/x-python",
   "name": "python",
   "nbconvert_exporter": "python",
   "pygments_lexer": "ipython3",
   "version": "3.10.14"
  }
 },
 "nbformat": 4,
 "nbformat_minor": 2
}
