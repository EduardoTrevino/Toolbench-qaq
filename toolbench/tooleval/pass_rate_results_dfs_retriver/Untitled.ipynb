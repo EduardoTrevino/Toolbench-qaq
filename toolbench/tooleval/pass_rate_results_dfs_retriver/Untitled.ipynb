{
 "cells": [
  {
   "cell_type": "code",
   "execution_count": 1,
   "metadata": {},
   "outputs": [
    {
     "name": "stdout",
     "output_type": "stream",
     "text": [
      "Pass rate: 0.6571428571428571\n"
     ]
    }
   ],
   "source": [
    "import json\n",
    "\n",
    "# Load the JSON data\n",
    "with open('G3_instruction_toollama_dfs_retriever_subset.json', 'r') as f:\n",
    "    data = json.load(f)\n",
    "\n",
    "# Initialize variables\n",
    "label_cnt = data  # Assuming the root of the JSON is the label_cnt dictionary\n",
    "pass_rate = 0\n",
    "total_queries = len(label_cnt)\n",
    "\n",
    "# Calculate pass rate\n",
    "for query_id in label_cnt:\n",
    "    if label_cnt[query_id][\"failed\"] <= label_cnt[query_id][\"passed\"]:\n",
    "        pass_rate += 1\n",
    "\n",
    "# Calculate the final pass rate\n",
    "pass_rate /= total_queries\n",
    "print(f\"Pass rate: {pass_rate}\")"
   ]
  },
  {
   "cell_type": "code",
   "execution_count": 2,
   "metadata": {},
   "outputs": [
    {
     "name": "stdout",
     "output_type": "stream",
     "text": [
      "File: G1_category_type1_no_qaq_v2_chatgpt4_GPT4_NO_QAQ.json, Pass rate: 0.2857142857142857\n",
      "File: G1_tool_type2_no_qaq_v2_chatgpt4_GPT4_NO_QAQ.json, Pass rate: 0.4\n",
      "File: G1_instruction_type1_no_qaq_v2_chatgpt4_GPT4_NO_QAQ.json, Pass rate: 0.25\n",
      "File: G1_category_type4_no_qaq_v2_chatgpt4_GPT4_NO_QAQ.json, Pass rate: 0.16666666666666666\n",
      "File: G1_instruction_type4_no_qaq_v2_chatgpt4_GPT4_NO_QAQ.json, Pass rate: 0.18181818181818182\n",
      "File: G1_tool_type3_no_qaq_v2_chatgpt4_GPT4_NO_QAQ.json, Pass rate: 0.3333333333333333\n",
      "File: G1_category_type2_no_qaq_v2_chatgpt4_GPT4_NO_QAQ.json, Pass rate: 0.0\n",
      "File: G1_instruction_type2_no_qaq_v2_chatgpt4_GPT4_NO_QAQ.json, Pass rate: 0.5\n",
      "File: G1_tool_type1_no_qaq_v2_chatgpt4_GPT4_NO_QAQ.json, Pass rate: 0.3055555555555556\n",
      "File: G1_category_type3_no_qaq_v2_chatgpt4_GPT4_NO_QAQ.json, Pass rate: 0.16666666666666666\n",
      "File: G1_instruction_type3_no_qaq_v2_chatgpt4_GPT4_NO_QAQ.json, Pass rate: 0.16666666666666666\n",
      "File: G1_tool_type4_no_qaq_v2_chatgpt4_GPT4_NO_QAQ.json, Pass rate: 0.15384615384615385\n",
      "File: ../pass_rate_results_toolllama_no_qaq_type3/G1_category_no_qaq_type3_toolllama.json, Pass rate: 0.16666666666666666\n"
     ]
    }
   ],
   "source": [
    "import json\n",
    "import os\n",
    "\n",
    "# Set the directory path\n",
    "directory_path = '../pass_rate_G1_chatgpt4_cot'\n",
    "\n",
    "\n",
    "paths = os.listdir(directory_path)\n",
    "paths.append(\"../pass_rate_results_toolllama_no_qaq_type3/G1_category_no_qaq_type3_toolllama.json\")\n",
    "\n",
    "\n",
    "# Loop through all files in the directory\n",
    "for filename in paths:\n",
    "    # Check if the file is a JSON file\n",
    "    if filename.endswith('.json'):\n",
    "        # Construct the full file path\n",
    "        file_path = os.path.join(directory_path, filename)\n",
    "\n",
    "        # Load the JSON data\n",
    "        with open(file_path, 'r') as f:\n",
    "            data = json.load(f)\n",
    "\n",
    "        # Initialize variables\n",
    "        label_cnt = data  # Assuming the root of the JSON is the label_cnt dictionary\n",
    "        pass_rate = 0\n",
    "        total_queries = len(label_cnt)\n",
    "\n",
    "        # passed = 0\n",
    "        # failed = 0\n",
    "\n",
    "        # Calculate pass rate\n",
    "        for query_id in label_cnt:\n",
    "            if label_cnt[query_id][\"failed\"] <= label_cnt[query_id][\"passed\"]:\n",
    "                pass_rate += 1\n",
    "\n",
    "        # Calculate the final pass rate\n",
    "        pass_rate /= total_queries\n",
    "\n",
    "        # Print the pass rate with the file name\n",
    "        print(f\"File: {filename}, Pass rate: {pass_rate}\")"
   ]
  },
  {
   "cell_type": "code",
   "execution_count": null,
   "metadata": {},
   "outputs": [],
   "source": []
  }
 ],
 "metadata": {
  "kernelspec": {
   "display_name": "Python 3",
   "language": "python",
   "name": "python3"
  },
  "language_info": {
   "codemirror_mode": {
    "name": "ipython",
    "version": 3
   },
   "file_extension": ".py",
   "mimetype": "text/x-python",
   "name": "python",
   "nbconvert_exporter": "python",
   "pygments_lexer": "ipython3",
   "version": "3.9.7"
  }
 },
 "nbformat": 4,
 "nbformat_minor": 4
}
