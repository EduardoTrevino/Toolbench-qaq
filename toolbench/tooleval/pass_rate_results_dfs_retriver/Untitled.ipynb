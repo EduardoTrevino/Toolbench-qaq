{
 "cells": [
  {
   "cell_type": "code",
   "execution_count": 1,
   "metadata": {},
   "outputs": [
    {
     "name": "stdout",
     "output_type": "stream",
     "text": [
      "Pass rate: 0.6571428571428571\n"
     ]
    }
   ],
   "source": [
    "import json\n",
    "\n",
    "# Load the JSON data\n",
    "with open('G3_instruction_toollama_dfs_retriever_subset.json', 'r') as f:\n",
    "    data = json.load(f)\n",
    "\n",
    "# Initialize variables\n",
    "label_cnt = data  # Assuming the root of the JSON is the label_cnt dictionary\n",
    "pass_rate = 0\n",
    "total_queries = len(label_cnt)\n",
    "\n",
    "# Calculate pass rate\n",
    "for query_id in label_cnt:\n",
    "    if label_cnt[query_id][\"failed\"] <= label_cnt[query_id][\"passed\"]:\n",
    "        pass_rate += 1\n",
    "\n",
    "# Calculate the final pass rate\n",
    "pass_rate /= total_queries\n",
    "print(f\"Pass rate: {pass_rate}\")"
   ]
  },
  {
   "cell_type": "code",
   "execution_count": 2,
   "metadata": {},
   "outputs": [
    {
     "name": "stdout",
     "output_type": "stream",
     "text": [
      "File: G1_category_toollama_dfs_retriever_subset.json, Pass rate: 0.7\n",
      "File: G1_tool_toollama_dfs_retriever_subset.json, Pass rate: 0.84375\n",
      "File: G2_instruction_toollama_dfs_retriever_subset.json, Pass rate: 0.8181818181818182\n",
      "File: G1_instruction_toollama_dfs_retriever_subset.json, Pass rate: 0.5882352941176471\n",
      "File: G3_instruction_toollama_dfs_retriever_subset.json, Pass rate: 0.6571428571428571\n",
      "File: G2_category_toollama_dfs_retriever_subset.json, Pass rate: 0.7428571428571429\n"
     ]
    }
   ],
   "source": [
    "import json\n",
    "import os\n",
    "\n",
    "# Set the directory path\n",
    "directory_path = '.'\n",
    "\n",
    "# Loop through all files in the directory\n",
    "for filename in os.listdir(directory_path):\n",
    "    # Check if the file is a JSON file\n",
    "    if filename.endswith('.json'):\n",
    "        # Construct the full file path\n",
    "        file_path = os.path.join(directory_path, filename)\n",
    "\n",
    "        # Load the JSON data\n",
    "        with open(file_path, 'r') as f:\n",
    "            data = json.load(f)\n",
    "\n",
    "        # Initialize variables\n",
    "        label_cnt = data  # Assuming the root of the JSON is the label_cnt dictionary\n",
    "        pass_rate = 0\n",
    "        total_queries = len(label_cnt)\n",
    "\n",
    "        # Calculate pass rate\n",
    "        for query_id in label_cnt:\n",
    "            if label_cnt[query_id][\"failed\"] <= label_cnt[query_id][\"passed\"]:\n",
    "                pass_rate += 1\n",
    "\n",
    "        # Calculate the final pass rate\n",
    "        pass_rate /= total_queries\n",
    "\n",
    "        # Print the pass rate with the file name\n",
    "        print(f\"File: {filename}, Pass rate: {pass_rate}\")"
   ]
  }
 ],
 "metadata": {
  "kernelspec": {
   "display_name": "toolbench",
   "language": "python",
   "name": "toolbench"
  },
  "language_info": {
   "codemirror_mode": {
    "name": "ipython",
    "version": 3
   },
   "file_extension": ".py",
   "mimetype": "text/x-python",
   "name": "python",
   "nbconvert_exporter": "python",
   "pygments_lexer": "ipython3",
   "version": "3.12.2"
  }
 },
 "nbformat": 4,
 "nbformat_minor": 4
}
