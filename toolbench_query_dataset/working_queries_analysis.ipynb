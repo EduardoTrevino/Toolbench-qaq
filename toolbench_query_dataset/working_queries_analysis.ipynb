{
 "cells": [
  {
   "cell_type": "code",
   "execution_count": null,
   "metadata": {},
   "outputs": [],
   "source": [
    "import os\n",
    "import json\n",
    "\n",
    "# Set the directory containing your JSON files\n",
    "directory = 'A_G1_tool_toolllama-2'\n",
    "\n",
    "# Initialize a list to store the results\n",
    "results = []\n",
    "\n",
    "# Iterate through each file in the directory\n",
    "for filename in os.listdir(directory):\n",
    "    if filename.endswith(\".json\"):  # Ensuring to process only JSON files\n",
    "        # Extract the query ID from the filename\n",
    "        query_id = filename.split('_')[0]\n",
    "\n",
    "        # Construct the full file path\n",
    "        file_path = os.path.join(directory, filename)\n",
    "\n",
    "        # Initialize the flag as 1 (assuming the string is not found)\n",
    "        flag = 1\n",
    "\n",
    "        # Open and read the JSON file\n",
    "        with open(file_path, 'r') as file:\n",
    "            data = json.load(file)\n",
    "            # Convert the JSON object to a string to search for the specific phrase\n",
    "            if \"You are not subscribed to this API\" in str(data):\n",
    "                flag = 0  # Change the flag to 0 if the string is found\n",
    "\n",
    "        # Append the result (query_id and flag) to the results list\n",
    "        results.append((query_id, flag))\n",
    "\n",
    "# Save the results to a CSV file\n",
    "import csv\n",
    "with open('good_queries_G1_tool.csv', 'w', newline='') as file:\n",
    "    writer = csv.writer(file)\n",
    "    writer.writerow(['Query ID', 'Flag'])\n",
    "    writer.writerows(results)\n",
    "\n",
    "print(\"Results have been saved to results.csv.\")\n"
   ]
  },
  {
   "cell_type": "code",
   "execution_count": 4,
   "metadata": {},
   "outputs": [
    {
     "name": "stdout",
     "output_type": "stream",
     "text": [
      "Total number of queries: 43\n",
      "Number of queries with a flag of 1: 14\n"
     ]
    }
   ],
   "source": [
    "import csv\n",
    "\n",
    "# Path to the CSV file\n",
    "csv_file_path = 'good_queries_G1_tool.csv'\n",
    "\n",
    "# Initialize counters\n",
    "total_queries = 0\n",
    "flag_one_count = 0\n",
    "\n",
    "# Open and read the CSV file\n",
    "with open(csv_file_path, mode='r') as file:\n",
    "    reader = csv.reader(file)\n",
    "    next(reader)  # Skip the header row\n",
    "    for row in reader:\n",
    "        total_queries += 1\n",
    "        if row[1] == '1':  # Check if the flag is 1\n",
    "            flag_one_count += 1\n",
    "\n",
    "# Print the results\n",
    "print(f\"Total number of queries: {total_queries}\")\n",
    "print(f\"Number of queries with a flag of 1: {flag_one_count}\")"
   ]
  },
  {
   "cell_type": "code",
   "execution_count": 1,
   "metadata": {},
   "outputs": [
    {
     "name": "stdout",
     "output_type": "stream",
     "text": [
      "File: good_queries_G1_category.csv\n",
      "  Total number of queries: 126\n",
      "  Number of queries with a flag of 1: 45\n",
      "File: good_queries_G1_instruction.csv\n",
      "  Total number of queries: 130\n",
      "  Number of queries with a flag of 1: 47\n",
      "File: good_queries_G1_tool.csv\n",
      "  Total number of queries: 196\n",
      "  Number of queries with a flag of 1: 65\n",
      "File: good_queries_G2_category.csv\n",
      "  Total number of queries: 196\n",
      "  Number of queries with a flag of 1: 37\n",
      "File: good_queries_G2_instruction.csv\n",
      "  Total number of queries: 196\n",
      "  Number of queries with a flag of 1: 44\n",
      "File: good_queries_G3_instruction.csv\n",
      "  Total number of queries: 100\n",
      "  Number of queries with a flag of 1: 51\n",
      "Total number of queries across all files: 944\n",
      "Total number of queries with a flag of 1 across all files: 289\n"
     ]
    }
   ],
   "source": [
    "import csv\n",
    "import glob\n",
    "import os\n",
    "\n",
    "# Path to the directory containing the CSV files\n",
    "directory_path = '.'  # Update with the actual directory path\n",
    "\n",
    "# Pattern to match the CSV files\n",
    "csv_pattern = os.path.join(directory_path, 'good_queries_*.csv')\n",
    "\n",
    "# Initialize counters\n",
    "total_queries = 0\n",
    "total_flag_one_count = 0\n",
    "\n",
    "# Get a list of all CSV files matching the pattern\n",
    "csv_files = glob.glob(csv_pattern)\n",
    "\n",
    "# Iterate through each CSV file\n",
    "for csv_file_path in csv_files:\n",
    "    file_queries = 0\n",
    "    file_flag_one_count = 0\n",
    "\n",
    "    # Open and read the CSV file\n",
    "    with open(csv_file_path, mode='r') as file:\n",
    "        reader = csv.reader(file)\n",
    "        next(reader)  # Skip the header row\n",
    "        for row in reader:\n",
    "            file_queries += 1\n",
    "            if row[1] == '1':  # Check if the flag is 1\n",
    "                file_flag_one_count += 1\n",
    "\n",
    "    # Update the total counters\n",
    "    total_queries += file_queries\n",
    "    total_flag_one_count += file_flag_one_count\n",
    "\n",
    "    # Print the results for the current file\n",
    "    print(f\"File: {os.path.basename(csv_file_path)}\")\n",
    "    print(f\"  Total number of queries: {file_queries}\")\n",
    "    print(f\"  Number of queries with a flag of 1: {file_flag_one_count}\")\n",
    "\n",
    "# Print the combined results\n",
    "print(f\"Total number of queries across all files: {total_queries}\")\n",
    "print(f\"Total number of queries with a flag of 1 across all files: {total_flag_one_count}\")"
   ]
  }
 ],
 "metadata": {
  "kernelspec": {
   "display_name": "Python 3",
   "language": "python",
   "name": "python3"
  },
  "language_info": {
   "codemirror_mode": {
    "name": "ipython",
    "version": 3
   },
   "file_extension": ".py",
   "mimetype": "text/x-python",
   "name": "python",
   "nbconvert_exporter": "python",
   "pygments_lexer": "ipython3",
   "version": "3.10.0"
  }
 },
 "nbformat": 4,
 "nbformat_minor": 4
}
